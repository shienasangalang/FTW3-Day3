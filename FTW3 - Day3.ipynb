{
 "cells": [
  {
   "cell_type": "code",
   "execution_count": 1,
   "metadata": {},
   "outputs": [
    {
     "name": "stdout",
     "output_type": "stream",
     "text": [
      "Enter a string/number:12233\n",
      "Not a Palindrome\n"
     ]
    }
   ],
   "source": [
    "# PALINDROME CHECKER\n",
    "entry=input((\"Enter a string/number:\"))\n",
    "\n",
    "if(entry==entry[::-1]):\n",
    "      print(\"Palindrome\")\n",
    "else:\n",
    "      print(\"Not a Palindrome\")"
   ]
  },
  {
   "cell_type": "code",
   "execution_count": 9,
   "metadata": {},
   "outputs": [
    {
     "name": "stdout",
     "output_type": "stream",
     "text": [
      "Enter a number: 12\n",
      "12 is not a prime number\n",
      "Sample factors: 2 times 6 is 12\n"
     ]
    }
   ],
   "source": [
    "# PRIME NUMBER CHECKER\n",
    "num = int(input(\"Enter a number: \"))\n",
    "\n",
    "# prime numbers are greater than 1\n",
    "if num > 1:\n",
    "   # check for factors\n",
    "   for i in range(2,num):\n",
    "       if (num % i) == 0:\n",
    "           print(num,\"is not a prime number\")\n",
    "           print(\"Sample factors:\", i,\"times\",num//i,\"is\",num)\n",
    "           break  # to print only one pair of factors\n",
    "   else:\n",
    "       print(num,\"is a prime number\")\n",
    "       \n",
    "# if input number is less than or equal to 1, it is not prime\n",
    "else:\n",
    "   print(num,\"is not a prime number\")"
   ]
  },
  {
   "cell_type": "code",
   "execution_count": 3,
   "metadata": {},
   "outputs": [
    {
     "name": "stdout",
     "output_type": "stream",
     "text": [
      "The sum of the squares is:  338350\n",
      "The square of the sums is:  5050\n",
      "The difference is:  25164150\n"
     ]
    }
   ],
   "source": [
    "# PROBLEM 6: SUM SQUARE DIFFERENCE\n",
    "\n",
    "sum_square = 0\n",
    "sums = 0\n",
    " \n",
    "for i in range(1,101):\n",
    "    sum_square += i*i\n",
    "    sums += i\n",
    " \n",
    "# Square of the sums:\n",
    "square_sum = sums * sums\n",
    " \n",
    "print('The sum of the squares is: ', sum_square)\n",
    "print('The square of the sums is: ', sums)\n",
    "print('The difference is: ' , square_sum - sum_square)"
   ]
  },
  {
   "cell_type": "code",
   "execution_count": 6,
   "metadata": {},
   "outputs": [
    {
     "name": "stdout",
     "output_type": "stream",
     "text": [
      "232792560\n"
     ]
    }
   ],
   "source": [
    "# PROBLEM 5: SMALLEST MULTIPLE \n",
    "def isdiv1to20(num):\n",
    "    for i in range(2,21): # 1 can be excluded since all numbers are divisible by 1\n",
    "        if num % i != 0:\n",
    "            return False\n",
    "    return True\n",
    "\n",
    "number = 20  # since 20 is the highest that the number should be divisible by\n",
    "while True: \n",
    "    if isdiv1to20(num):\n",
    "        break\n",
    "    num += 20  #increment by 20\n",
    "\n",
    "print(num)"
   ]
  }
 ],
 "metadata": {
  "kernelspec": {
   "display_name": "Python 3",
   "language": "python",
   "name": "python3"
  },
  "language_info": {
   "codemirror_mode": {
    "name": "ipython",
    "version": 3
   },
   "file_extension": ".py",
   "mimetype": "text/x-python",
   "name": "python",
   "nbconvert_exporter": "python",
   "pygments_lexer": "ipython3",
   "version": "3.7.4"
  }
 },
 "nbformat": 4,
 "nbformat_minor": 2
}
